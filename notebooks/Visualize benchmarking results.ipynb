{
 "cells": [
  {
   "cell_type": "markdown",
   "metadata": {},
   "source": [
    "## Drafts for visual analysis of benchmarking results from identification workflow"
   ]
  },
  {
   "cell_type": "code",
   "execution_count": 1,
   "metadata": {},
   "outputs": [],
   "source": [
    "import glob\n",
    "from pyteomics import mzid\n",
    "import numpy as np\n",
    "import matplotlib.pyplot as plt\n",
    "import os\n",
    "from venn import venn"
   ]
  },
  {
   "cell_type": "code",
   "execution_count": 11,
   "metadata": {},
   "outputs": [],
   "source": [
    "# read in 4 mzid files (one for each merging method)\n",
    "files = glob.glob('../data/*.mzid')\n",
    "# names of methods\n",
    "basenames = [os.path.basename(name) for name in files]"
   ]
  },
  {
   "cell_type": "code",
   "execution_count": null,
   "metadata": {},
   "outputs": [],
   "source": [
    "dfs = [mzid.DataFrame(f) for f in files]"
   ]
  },
  {
   "cell_type": "code",
   "execution_count": null,
   "metadata": {},
   "outputs": [],
   "source": [
    "def evalue_hist(df, title):\n",
    "    np.log10(df['MS-GF:EValue']).hist(bins=100)\n",
    "    plt.title(title)"
   ]
  },
  {
   "cell_type": "code",
   "execution_count": null,
   "metadata": {},
   "outputs": [],
   "source": [
    "# simple histograms of PSM evalues\n",
    "plt.figure(figsize=(16, 10))\n",
    "for i, (name, df) in enumerate(zip(basenames, dfs), 1):\n",
    "    plt.subplot(2, 2, i)\n",
    "    evalue_hist(df, name)\n",
    "    plt.xlabel('log(e-value)')\n",
    "plt.tight_layout()"
   ]
  },
  {
   "cell_type": "markdown",
   "metadata": {},
   "source": [
    "### subtract the mean from 4 histograms and plot the difference ###"
   ]
  },
  {
   "cell_type": "code",
   "execution_count": null,
   "metadata": {},
   "outputs": [],
   "source": [
    "Nbins = 50\n",
    "bins = np.linspace(-14, 0, Nbins)\n",
    "counts = np.empty((4, Nbins-1))\n",
    "for i, df in enumerate(dfs):\n",
    "    counts[i, :] = np.histogram(np.log10(df['MS-GF:EValue']), bins=bins)[0]"
   ]
  },
  {
   "cell_type": "code",
   "execution_count": null,
   "metadata": {},
   "outputs": [],
   "source": [
    "mean = counts.mean(axis=0)\n",
    "plt.figure(figsize=(18, 9))\n",
    "plt.step(bins[:-1], (counts-mean).T)\n",
    "plt.xlabel('log(e-value)')\n",
    "plt.legend(basenames)"
   ]
  },
  {
   "cell_type": "markdown",
   "metadata": {},
   "source": [
    "### Bar plots of number of PSMs and peptides"
   ]
  },
  {
   "cell_type": "code",
   "execution_count": null,
   "metadata": {},
   "outputs": [],
   "source": [
    "npsms = [df.shape[0] for df in dfs]\n",
    "plt.bar(range(4), npsms)\n",
    "plt.xticks([])\n",
    "plt.title('# of PSMs')\n",
    "npsms"
   ]
  },
  {
   "cell_type": "code",
   "execution_count": null,
   "metadata": {},
   "outputs": [],
   "source": [
    "npeptides = [df.drop_duplicates('PeptideSequence').shape[0] for df in dfs]\n",
    "plt.bar(range(4), npeptides)\n",
    "plt.xticks([])\n",
    "plt.title('# of peptides')\n",
    "npeptides"
   ]
  },
  {
   "cell_type": "markdown",
   "metadata": {},
   "source": [
    "### Venn diagram of identified peptides"
   ]
  },
  {
   "cell_type": "code",
   "execution_count": null,
   "metadata": {},
   "outputs": [],
   "source": [
    "sets = [set(df.PeptideSequence) for df in dfs]\n",
    "venn(dict(zip(basenames, sets)))"
   ]
  },
  {
   "cell_type": "code",
   "execution_count": null,
   "metadata": {},
   "outputs": [],
   "source": []
  }
 ],
 "metadata": {
  "kernelspec": {
   "display_name": "Python 3",
   "language": "python",
   "name": "python3"
  },
  "language_info": {
   "codemirror_mode": {
    "name": "ipython",
    "version": 3
   },
   "file_extension": ".py",
   "mimetype": "text/x-python",
   "name": "python",
   "nbconvert_exporter": "python",
   "pygments_lexer": "ipython3",
   "version": "3.7.6"
  }
 },
 "nbformat": 4,
 "nbformat_minor": 4
}
